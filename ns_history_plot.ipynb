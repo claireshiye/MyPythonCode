{
 "cells": [
  {
   "cell_type": "code",
   "execution_count": 1,
   "metadata": {
    "collapsed": false
   },
   "outputs": [],
   "source": [
    "import numpy as np\n",
    "from glob import glob\n",
    "import collections\n",
    "from collections import Counter\n",
    "import os,sys\n",
    "import subprocess\n",
    "import matplotlib\n",
    "matplotlib.use('PDF')\n",
    "import matplotlib.pyplot as plt\n",
    "import matplotlib.lines as mlines\n",
    "import gzip\n",
    "import math\n",
    "import re\n",
    "import history_cmc as hic\n",
    "import dynamics as dyn\n",
    "import scripts3\n",
    "import scripts1\n",
    "import scripts2\n",
    "#from scipy import stats\n",
    "\n",
    "%matplotlib inline\n",
    "\n",
    "yearsc=31557600.\n",
    "twopi=6.283185307179586\n",
    "Gconst=6.674*10**-8 ##cm3*g-1*s-2\n",
    "clight=3*10**10 ##cm/s\n",
    "Msun=2*10**33 ##gram\n",
    "AU=1.496*10**13  ##cm\n",
    "PC=3.086*10**18  ##cm\n",
    "Kconst=9.87*10**-48 ##yr/G^2\n",
    "Lsun=4.02*10**16 ##mJy*kpc^2"
   ]
  },
  {
   "cell_type": "code",
   "execution_count": 43,
   "metadata": {
    "collapsed": false
   },
   "outputs": [
    {
     "data": {
      "text/plain": [
       "(-2, 2)"
      ]
     },
     "execution_count": 43,
     "metadata": {},
     "output_type": "execute_result"
    },
    {
     "data": {
      "image/png": "[encoded data removed]",
      "text/plain": [
       "<matplotlib.figure.Figure at 0x2b3a52277a58>"
      ]
     },
     "metadata": {},
     "output_type": "display_data"
    }
   ],
   "source": [
    "import matplotlib.patches as mpatch\n",
    "from matplotlib.collections import PatchCollection\n",
    "\n",
    "\n",
    "x=1; y=1; w=0.4; h=0.3\n",
    "c1x=x-w/2.; c2x=x+w/2.\n",
    "r=0.1\n",
    "plt.figure()\n",
    "ax=plt.gca()\n",
    "ax.axis(\"equal\")\n",
    "e=mpatch.Ellipse((x,y), w, h, fc=None, ec='k', fill=False)\n",
    "c1=mpatch.Circle((c1x, y), r, ec=\"none\")\n",
    "c2=mpatch.Circle((c2x, y), r, ec=\"none\")\n",
    "bs1=[e, c1, c2]\n",
    "collection_bs1 = PatchCollection(bs1, match_original=True)\n",
    "ax.add_collection(collection_bs1)\n",
    "plt.xlim(-2,2)\n",
    "plt.ylim(-2,2)\n"
   ]
  },
  {
   "cell_type": "code",
   "execution_count": 3,
   "metadata": {
    "collapsed": false,
    "scrolled": true
   },
   "outputs": [
    {
     "name": "stdout",
     "output_type": "stream",
     "text": [
      "{338216: {'binint': {'binint': {0: {'merge': 0, 'id': 338216, 'mergeids': 0, 'interaction': {'success': 1, 'type': {'type': 'BS', 'nopars': 3, 'time': 0.0850869231}, 'params': {'b': 1.17912, 'v': 12.1159}, 'input': {0: {'type': 'single', 'no': 1, 'm': [0.17605], 'R': [0.198378], 'Eint': [0.0], 'ids': [678535], 'a': -100, 'e': -100, 'startype': [0]}, 1: {'type': 'binary', 'no': 2, 'm': [1.40564, 0.146998], 'R': [1.06325, 0.169317], 'Eint': [6.92328e+46, 6.92328e+46], 'ids': [338216, 99159], 'a': 92.461, 'e': 0.0, 'startype': [6, 0]}}, 'status': {'DE/E': 6.75489e-11, 'DE': 2.92964e-08, 'DL/L': 2.88439e-10, 'DL': 5.26017e-10, 'DE_GW/E': 0.0, 'DE_GW': 0.0, 'v_esc_cluster[km/s]': 68.5373, 'tcpu': 0.0}, 'outcome': {'nstar': 3, 'nobj': 2, 'outcome': '0 [2 1]', 'objects': 'single-binary'}, 'output': {0: {'type': 'single', 'no': 1, 'm': [0.17605], 'R': [0.198378], 'Eint': [0.0], 'ids': ['678535'], 'a': [], 'e': [], 'merge': {'merge': [0], 'ids': {}}, 'startype': ['ktyp0']}, 1: {'type': 'binary', 'no': 2, 'm': [0.146998, 1.40564], 'R': [0.169317, 1.06325], 'Eint': [6.92328e+46, 6.92328e+46], 'ids': ['99159', '338216'], 'a': [92.1961], 'e': [0.00297654], 'merge': {'merge': [0, 0], 'ids': {}}, 'startype': ['0', '6']}}}}, 1: {'merge': 0, 'id': 338216, 'mergeids': 0, 'interaction': {'success': 1, 'type': {'type': 'BS', 'nopars': 3, 'time': 0.0850949011}, 'params': {'b': 1.64147, 'v': 8.47585}, 'input': {0: {'type': 'single', 'no': 1, 'm': [0.161571], 'R': [0.1844], 'Eint': [0.0], 'ids': [196907], 'a': -100, 'e': -100, 'startype': [0]}, 1: {'type': 'binary', 'no': 2, 'm': [0.146998, 1.40561], 'R': [0.169317, 0.742619], 'Eint': [6.92328e+46, 6.92328e+46], 'ids': [99159, 338216], 'a': 92.1979, 'e': 0.00297654, 'startype': [0, 6]}}, 'status': {'DE/E': -2.00542e-11, 'DE': -7.35173e-09, 'DL/L': 2.82766e-10, 'DL': 4.16393e-10, 'DE_GW/E': 0.0, 'DE_GW': 0.0, 'v_esc_cluster[km/s]': 70.8633, 'tcpu': 0.0}, 'outcome': {'nstar': 3, 'nobj': 2, 'outcome': '0 [1 2]', 'objects': 'single-binary'}, 'output': {0: {'type': 'single', 'no': 1, 'm': [0.161571], 'R': [0.1844], 'Eint': [0.0], 'ids': ['196907'], 'a': [], 'e': [], 'merge': {'merge': [0], 'ids': {}}, 'startype': ['ktyp0']}, 1: {'type': 'binary', 'no': 2, 'm': [0.146998, 1.40561], 'R': [0.169317, 0.742619], 'Eint': [6.92328e+46, 6.92328e+46], 'ids': ['99159', '338216'], 'a': [90.3125], 'e': [0.0253107], 'merge': {'merge': [0, 0], 'ids': {}}, 'startype': ['0', '6']}}}}, 2: {'merge': 0, 'id': 338216, 'mergeids': 0, 'interaction': {'success': 1, 'type': {'type': 'BS', 'nopars': 3, 'time': 0.085107944}, 'params': {'b': 1.74803, 'v': 25.1808}, 'input': {0: {'type': 'single', 'no': 1, 'm': [0.615999], 'R': [0.558332], 'Eint': [0.0], 'ids': [38312], 'a': -100, 'e': -100, 'startype': [0]}, 1: {'type': 'binary', 'no': 2, 'm': [0.146998, 1.40559], 'R': [0.169317, 0.418837], 'Eint': [6.92328e+46, 6.92328e+46], 'ids': [99159, 338216], 'a': 90.3142, 'e': 0.0253107, 'startype': [0, 6]}}, 'status': {'DE/E': -2.16205e-10, 'DE': -7.62514e-07, 'DL/L': 7.82102e-11, 'DL': 3.2555e-09, 'DE_GW/E': 0.0, 'DE_GW': 0.0, 'v_esc_cluster[km/s]': 69.2635, 'tcpu': 0.0}, 'outcome': {'nstar': 3, 'nobj': 2, 'outcome': '0 [1 2]', 'objects': 'single-binary'}, 'output': {0: {'type': 'single', 'no': 1, 'm': [0.615999], 'R': [0.558332], 'Eint': [0.0], 'ids': ['38312'], 'a': [], 'e': [], 'merge': {'merge': [0], 'ids': {}}, 'startype': ['ktyp0']}, 1: {'type': 'binary', 'no': 2, 'm': [0.146998, 1.40559], 'R': [0.169317, 0.418837], 'Eint': [6.92328e+46, 6.92328e+46], 'ids': ['99159', '338216'], 'a': [89.9668], 'e': [0.0193148], 'merge': {'merge': [0, 0], 'ids': {}}, 'startype': ['0', '6']}}}}, 3: {'merge': 0, 'id': 338216, 'mergeids': 0, 'interaction': {'success': 1, 'type': {'type': 'BS', 'nopars': 3, 'time': 0.0851111483}, 'params': {'b': 1.99928, 'v': 8.48175}, 'input': {0: {'type': 'single', 'no': 1, 'm': [0.243404], 'R': [0.254253], 'Eint': [0.0], 'ids': [409002], 'a': -100, 'e': -100, 'startype': [0]}, 1: {'type': 'binary', 'no': 2, 'm': [0.146998, 1.40558], 'R': [0.169317, 0.364959], 'Eint': [6.92328e+46, 6.92328e+46], 'ids': [99159, 338216], 'a': 89.967, 'e': 0.0193148, 'startype': [0, 6]}}, 'status': {'DE/E': 1.38678e-11, 'DE': 1.02591e-08, 'DL/L': 2.82215e-10, 'DL': 1.06127e-09, 'DE_GW/E': 0.0, 'DE_GW': 0.0, 'v_esc_cluster[km/s]': 71.222, 'tcpu': 0.01}, 'outcome': {'nstar': 3, 'nobj': 2, 'outcome': '0 [1 2]', 'objects': 'single-binary'}, 'output': {0: {'type': 'single', 'no': 1, 'm': [0.243404], 'R': [0.254253], 'Eint': [0.0], 'ids': ['409002'], 'a': [], 'e': [], 'merge': {'merge': [0], 'ids': {}}, 'startype': ['ktyp0']}, 1: {'type': 'binary', 'no': 2, 'm': [0.146998, 1.40558], 'R': [0.169317, 0.364959], 'Eint': [6.92328e+46, 6.92328e+46], 'ids': ['99159', '338216'], 'a': [92.1076], 'e': [0.0376703], 'merge': {'merge': [0, 0], 'ids': {}}, 'startype': ['0', '6']}}}}, 4: {'merge': 0, 'id': 338216, 'mergeids': 0, 'interaction': {'success': 1, 'type': {'type': 'BS', 'nopars': 3, 'time': 0.0851344092}, 'params': {'b': 0.325663, 'v': 11.1716}, 'input': {0: {'type': 'single', 'no': 1, 'm': [0.155782], 'R': [0.178539], 'Eint': [0.0], 'ids': [687616], 'a': -100, 'e': -100, 'startype': [0]}, 1: {'type': 'binary', 'no': 2, 'm': [0.146998, 1.40556], 'R': [0.169317, 0.126535], 'Eint': [6.92328e+46, 6.92328e+46], 'ids': [99159, 338216], 'a': 92.1087, 'e': 0.0376703, 'startype': [0, 6]}}, 'status': {'DE/E': -1.29163e-12, 'DE': -4.46107e-10, 'DL/L': 1.16936e-08, 'DL': 3.6643e-09, 'DE_GW/E': 0.0, 'DE_GW': 0.0, 'v_esc_cluster[km/s]': 68.5279, 'tcpu': 0.0}, 'outcome': {'nstar': 3, 'nobj': 2, 'outcome': '0 [1 2]', 'objects': 'single-binary'}, 'output': {0: {'type': 'single', 'no': 1, 'm': [0.155782], 'R': [0.178539], 'Eint': [0.0], 'ids': ['687616'], 'a': [], 'e': [], 'merge': {'merge': [0], 'ids': {}}, 'startype': ['ktyp0']}, 1: {'type': 'binary', 'no': 2, 'm': [0.146998, 1.40556], 'R': [0.169317, 0.126535], 'Eint': [6.92328e+46, 6.92328e+46], 'ids': ['99159', '338216'], 'a': [103.228], 'e': [0.142575], 'merge': {'merge': [0, 0], 'ids': {}}, 'startype': ['0', '6']}}}}, 5: {'merge': 0, 'id': 338216, 'mergeids': 0, 'interaction': {'success': 1, 'type': {'type': 'BS', 'nopars': 3, 'time': 0.085198758}, 'params': {'b': 1.90464, 'v': 7.95492}, 'input': {0: {'type': 'single', 'no': 1, 'm': [0.0838604], 'R': [0.150366], 'Eint': [0.0], 'ids': [501230], 'a': -100, 'e': -100, 'startype': [0]}, 1: {'type': 'binary', 'no': 2, 'm': [0.146998, 1.40556], 'R': [0.169317, 0.00805338], 'Eint': [6.92328e+46, 6.92328e+46], 'ids': [99159, 338216], 'a': 103.229, 'e': 0.142575, 'startype': [0, 6]}}, 'status': {'DE/E': -1.10145e-12, 'DE': -1.33355e-10, 'DL/L': 2.22771e-10, 'DL': 1.02536e-10, 'DE_GW/E': 0.0, 'DE_GW': 0.0, 'v_esc_cluster[km/s]': 69.1964, 'tcpu': 0.0}, 'outcome': {'nstar': 3, 'nobj': 2, 'outcome': '0 [1 2]', 'objects': 'single-binary'}, 'output': {0: {'type': 'single', 'no': 1, 'm': [0.0838604], 'R': [0.150366], 'Eint': [0.0], 'ids': ['501230'], 'a': [], 'e': [], 'merge': {'merge': [0], 'ids': {}}, 'startype': ['ktyp0']}, 1: {'type': 'binary', 'no': 2, 'm': [0.146998, 1.40556], 'R': [0.169317, 0.00805338], 'Eint': [6.92328e+46, 6.92328e+46], 'ids': ['99159', '338216'], 'a': [103.292], 'e': [0.140477], 'merge': {'merge': [0, 0], 'ids': {}}, 'startype': ['0', '6']}}}}, 6: {'merge': 0, 'id': 338216, 'mergeids': 0, 'interaction': {'success': 1, 'type': {'type': 'BS', 'nopars': 3, 'time': 0.0852086205}, 'params': {'b': 1.84597, 'v': 18.6273}, 'input': {0: {'type': 'single', 'no': 1, 'm': [0.466593], 'R': [0.417314], 'Eint': [0.0], 'ids': [720], 'a': -100, 'e': -100, 'startype': [0]}, 1: {'type': 'binary', 'no': 2, 'm': [0.146998, 1.40556], 'R': [0.169317, 0.00627856], 'Eint': [6.92328e+46, 6.92328e+46], 'ids': [99159, 338216], 'a': 103.292, 'e': 0.140477, 'startype': [0, 6]}}, 'status': {'DE/E': -1.39765e-10, 'DE': -3.56642e-07, 'DL/L': 1.73009e-10, 'DL': 3.7679e-09, 'DE_GW/E': 0.0, 'DE_GW': 0.0, 'v_esc_cluster[km/s]': 69.6395, 'tcpu': 0.0}, 'outcome': {'nstar': 3, 'nobj': 2, 'outcome': '0 [1 2]', 'objects': 'single-binary'}, 'output': {0: {'type': 'single', 'no': 1, 'm': [0.466593], 'R': [0.417314], 'Eint': [0.0], 'ids': ['720'], 'a': [], 'e': [], 'merge': {'merge': [0], 'ids': {}}, 'startype': ['ktyp0']}, 1: {'type': 'binary', 'no': 2, 'm': [0.146998, 1.40556], 'R': [0.169317, 0.00627856], 'Eint': [6.92328e+46, 6.92328e+46], 'ids': ['99159', '338216'], 'a': [101.588], 'e': [0.116784], 'merge': {'merge': [0, 0], 'ids': {}}, 'startype': ['0', '6']}}}}, 7: {'merge': 0, 'id': 338216, 'mergeids': 0, 'interaction': {'success': 1, 'type': {'type': 'BB', 'nopars': 4, 'time': 0.0852259842}, 'params': {'b': 1.48885, 'v': 3.21304}, 'input': {0: {'type': 'binary', 'no': 2, 'm': [0.114832, 0.105105], 'R': [0.135409, 0.139464], 'Eint': [0.0, 0.0], 'ids': [525305, 816586], 'a': 0.104125, 'e': 0.954726, 'startype': [0, 0]}, 1: {'type': 'binary', 'no': 2, 'm': [0.146998, 1.40556], 'R': [0.169317, 0.00360065], 'Eint': [6.92328e+46, 6.92328e+46], 'ids': [99159, 338216], 'a': 101.588, 'e': 0.116784, 'startype': [0, 6]}}, 'status': {'DE/E': 3.78187e-09, 'DE': 8.33086e-10, 'DL/L': 8.19099e-10, 'DL': 1.23014e-11, 'DE_GW/E': 0.0, 'DE_GW': 0.0, 'v_esc_cluster[km/s]': 69.8069, 'tcpu': 0.0}, 'outcome': {'nstar': 4, 'nobj': 2, 'outcome': '[0 1] [2 3]', 'objects': 'binary-binary'}, 'output': {0: {'type': 'binary', 'no': 2, 'm': [0.114832, 0.105105], 'R': [0.135409, 0.139464], 'Eint': [0.0, 0.0], 'ids': ['525305', '816586'], 'a': [0.104125], 'e': [0.954726], 'merge': {'merge': [0, 0], 'ids': {}}, 'startype': ['0', '0']}, 1: {'type': 'binary', 'no': 2, 'm': [0.146998, 1.40556], 'R': [0.169317, 0.00360065], 'Eint': [6.92328e+46, 6.92328e+46], 'ids': ['99159', '338216'], 'a': [101.529], 'e': [0.120779], 'merge': {'merge': [0, 0], 'ids': {}}, 'startype': ['0', '6']}}}}, 8: {'merge': 0, 'id': 338216, 'mergeids': 0, 'interaction': {'success': 1, 'type': {'type': 'BS', 'nopars': 3, 'time': 0.0852375789}, 'params': {'b': 0.971237, 'v': 6.5982}, 'input': {0: {'type': 'single', 'no': 1, 'm': [0.116685], 'R': [0.134689], 'Eint': [0.0], 'ids': [444995], 'a': -100, 'e': -100, 'startype': [0]}, 1: {'type': 'binary', 'no': 2, 'm': [0.146998, 1.40556], 'R': [0.169317, 0.00300085], 'Eint': [6.92328e+46, 6.92328e+46], 'ids': [99159, 338216], 'a': 101.529, 'e': 0.120779, 'startype': [0, 6]}}, 'status': {'DE/E': -1.96114e-11, 'DE': -4.33477e-09, 'DL/L': 2.56915e-10, 'DL': 8.84389e-11, 'DE_GW/E': 0.0, 'DE_GW': 0.0, 'v_esc_cluster[km/s]': 66.677, 'tcpu': 0.0}, 'outcome': {'nstar': 3, 'nobj': 2, 'outcome': '0 [1 2]', 'objects': 'single-binary'}, 'output': {0: {'type': 'single', 'no': 1, 'm': [0.116685], 'R': [0.134689], 'Eint': [0.0], 'ids': ['444995'], 'a': [], 'e': [], 'merge': {'merge': [0], 'ids': {}}, 'startype': ['ktyp0']}, 1: {'type': 'binary', 'no': 2, 'm': [0.146998, 1.40556], 'R': [0.169317, 0.00300085], 'Eint': [6.92328e+46, 6.92328e+46], 'ids': ['99159', '338216'], 'a': [93.1809], 'e': [0.0352853], 'merge': {'merge': [0, 0], 'ids': {}}, 'startype': ['0', '6']}}}}, 9: {'merge': 0, 'id': 338216, 'mergeids': 0, 'interaction': {'success': 1, 'type': {'type': 'BS', 'nopars': 3, 'time': 0.0852729168}, 'params': {'b': 1.71272, 'v': 13.7059}, 'input': {0: {'type': 'single', 'no': 1, 'm': [0.119858], 'R': [0.13794], 'Eint': [0.0], 'ids': [479902], 'a': -100, 'e': -100, 'startype': [0]}, 1: {'type': 'binary', 'no': 2, 'm': [0.146998, 1.40556], 'R': [0.169317, 0.00212521], 'Eint': [6.92328e+46, 6.92328e+46], 'ids': [99159, 338216], 'a': 93.1809, 'e': 0.0352853, 'startype': [0, 6]}}, 'status': {'DE/E': 4.10461e-11, 'DE': 8.93405e-09, 'DL/L': 1.64686e-10, 'DL': 2.28912e-10, 'DE_GW/E': 0.0, 'DE_GW': 0.0, 'v_esc_cluster[km/s]': 67.9349, 'tcpu': 0.0}, 'outcome': {'nstar': 3, 'nobj': 2, 'outcome': '0 [1 2]', 'objects': 'single-binary'}, 'output': {0: {'type': 'single', 'no': 1, 'm': [0.119858], 'R': [0.13794], 'Eint': [0.0], 'ids': ['479902'], 'a': [], 'e': [], 'merge': {'merge': [0], 'ids': {}}, 'startype': ['ktyp0']}, 1: {'type': 'binary', 'no': 2, 'm': [0.146998, 1.40556], 'R': [0.169317, 0.00212521], 'Eint': [6.92328e+46, 6.92328e+46], 'ids': ['99159', '338216'], 'a': [93.4205], 'e': [0.0372195], 'merge': {'merge': [0, 0], 'ids': {}}, 'startype': ['0', '6']}}}}, 10: {'merge': 0, 'id': 338216, 'mergeids': 0, 'interaction': {'success': 1, 'type': {'type': 'BS', 'nopars': 3, 'time': 0.0852878308}, 'params': {'b': 1.69852, 'v': 7.26099}, 'input': {0: {'type': 'single', 'no': 1, 'm': [0.0831735], 'R': [0.150779], 'Eint': [7.12942e+47], 'ids': [170211], 'a': -100, 'e': -100, 'startype': [0]}, 1: {'type': 'binary', 'no': 2, 'm': [0.146998, 1.40556], 'R': [0.169317, 0.00207483], 'Eint': [6.92328e+46, 6.92328e+46], 'ids': [99159, 338216], 'a': 93.4205, 'e': 0.0372195, 'startype': [0, 6]}}, 'status': {'DE/E': -1.60816e-12, 'DE': -1.05956e-09, 'DL/L': 1.75631e-10, 'DL': 7.19902e-11, 'DE_GW/E': 0.0, 'DE_GW': 0.0, 'v_esc_cluster[km/s]': 65.7184, 'tcpu': 0.0}, 'outcome': {'nstar': 3, 'nobj': 2, 'outcome': '0 [1 2]', 'objects': 'single-binary'}, 'output': {0: {'type': 'single', 'no': 1, 'm': [0.0831735], 'R': [0.150779], 'Eint': [7.12942e+47], 'ids': ['170211'], 'a': [], 'e': [], 'merge': {'merge': [0], 'ids': {}}, 'startype': ['ktyp0']}, 1: {'type': 'binary', 'no': 2, 'm': [0.146998, 1.40556], 'R': [0.169317, 0.00207483], 'Eint': [6.92328e+46, 6.92328e+46], 'ids': ['99159', '338216'], 'a': [93.0829], 'e': [0.0431571], 'merge': {'merge': [0, 0], 'ids': {}}, 'startype': ['0', '6']}}}}, 11: {'merge': 0, 'id': 338216, 'mergeids': 0, 'interaction': {'success': 1, 'type': {'type': 'BS', 'nopars': 3, 'time': 12.7616024}, 'params': {'b': 1.52706, 'v': 5.64598}, 'input': {0: {'type': 'single', 'no': 1, 'm': [1.242], 'R': [1.4e-05], 'Eint': [6.92328e+46], 'ids': [338216], 'a': -100, 'e': -100, 'startype': [13]}, 1: {'type': 'binary', 'no': 2, 'm': [1.18523, 1.66462], 'R': [0.00518404, 1.18964], 'Eint': [0.0, -2.38619e+46], 'ids': [473391, 936422], 'a': 254.438, 'e': 0.791796, 'startype': [12, 1]}}, 'status': {'DE/E': -1.40588e-10, 'DE': -1.85033e-08, 'DL/L': 1.13567e-09, 'DL': 3.92202e-09, 'DE_GW/E': 0.0, 'DE_GW': 0.0, 'v_esc_cluster[km/s]': 32.6748, 'tcpu': 0.0}, 'outcome': {'nstar': 3, 'nobj': 2, 'outcome': '0 [1 2]', 'objects': 'single-binary'}, 'output': {0: {'type': 'single', 'no': 1, 'm': [1.242], 'R': [1.4e-05], 'Eint': [6.92328e+46], 'ids': ['338216'], 'a': [], 'e': [], 'merge': {'merge': [0], 'ids': {}}, 'startype': ['ktyp13']}, 1: {'type': 'binary', 'no': 2, 'm': [1.18523, 1.66462], 'R': [0.00518404, 1.18964], 'Eint': [0.0, -2.38619e+46], 'ids': ['473391', '936422'], 'a': [261.555], 'e': [0.787901], 'merge': {'merge': [0, 0], 'ids': {}}, 'startype': ['12', '1']}}}}, 12: {'merge': 0, 'id': 338216, 'mergeids': 0, 'interaction': {'success': 1, 'type': {'type': 'BS', 'nopars': 3, 'time': 18.7859658}, 'params': {'b': 6.08778, 'v': 0.347994}, 'input': {0: {'type': 'single', 'no': 1, 'm': [1.242], 'R': [1.4e-05], 'Eint': [6.92328e+46], 'ids': [338216], 'a': -100, 'e': -100, 'startype': [13]}, 1: {'type': 'binary', 'no': 2, 'm': [0.456636, 0.367945], 'R': [0.419931, 0.347469], 'Eint': [0.0, 0.0], 'ids': [613924, 800108], 'a': 0.11103, 'e': 0.439715, 'startype': [0, 0]}}, 'status': {'DE/E': -3.0484e-07, 'DE': -9.59485e-07, 'DL/L': 7.93198e-10, 'DL': 2.2355e-09, 'DE_GW/E': 0.0, 'DE_GW': 0.0, 'v_esc_cluster[km/s]': 33.4279, 'tcpu': 0.05}, 'outcome': {'nstar': 3, 'nobj': 2, 'outcome': '[0 2] 1', 'objects': 'binary-single'}, 'output': {0: {'type': 'binary', 'no': 2, 'm': [1.242, 0.367945], 'R': [1.4e-05, 0.347469], 'Eint': [6.92328e+46, 0.0], 'ids': ['338216', '800108'], 'a': [0.2945], 'e': [0.661233], 'merge': {'merge': [0, 0], 'ids': {}}, 'startype': ['13', '0']}, 1: {'type': 'single', 'no': 1, 'm': [0.456636], 'R': [0.419931], 'Eint': [0.0], 'ids': ['613924'], 'a': [], 'e': [], 'merge': {'merge': [0], 'ids': {}}, 'startype': ['ktyp0']}}}}, 13: {'merge': 0, 'id': 338216, 'mergeids': 0, 'interaction': {'success': 1, 'type': {'type': 'BB', 'nopars': 4, 'time': 18.8914331}, 'params': {'b': 6.41355, 'v': 0.0276509}, 'input': {0: {'type': 'binary', 'no': 2, 'm': [1.242, 0.367945], 'R': [1.4e-05, 0.347498], 'Eint': [6.92328e+46, 0.0], 'ids': [338216, 800108], 'a': 0.294514, 'e': 0.661237, 'startype': [13, 0]}, 1: {'type': 'binary', 'no': 2, 'm': [0.393462, 0.733364], 'R': [0.367071, 0.0110921], 'Eint': [2.76787e+46, 2.76787e+46], 'ids': [209082, 229457], 'a': 0.00522962, 'e': 0.0, 'startype': [0, 11]}}, 'status': {'DE/E': 1.68926e-06, 'DE': -1.63762e-08, 'DL/L': 2.85561e-09, 'DL': 1.80576e-11, 'DE_GW/E': -0.0, 'DE_GW': 0.0, 'v_esc_cluster[km/s]': 33.181, 'tcpu': 0.04}, 'outcome': {'nstar': 4, 'nobj': 2, 'outcome': '[0 1] [2 3]', 'objects': 'binary-binary'}, 'output': {0: {'type': 'binary', 'no': 2, 'm': [1.242, 0.367945], 'R': [1.4e-05, 0.347498], 'Eint': [6.92328e+46, 0.0], 'ids': ['338216', '800108'], 'a': [0.0635325], 'e': [0.687221], 'merge': {'merge': [0, 0], 'ids': {}}, 'startype': ['13', '0']}, 1: {'type': 'binary', 'no': 2, 'm': [0.393462, 0.733364], 'R': [0.367071, 0.0110921], 'Eint': [2.76787e+46, 2.76787e+46], 'ids': ['209082', '229457'], 'a': [0.0052296], 'e': [0.000979621], 'merge': {'merge': [0, 0], 'ids': {}}, 'startype': ['0', '11']}}}}}, 'binint_coll': {}}, 'coll': {}, 'se': {'time': 0.0852911, 'interaction': '3', 'id': 338216, 'mass': 1.40556, 'parents': {}, 'position': 0.445188, 'fin_prod': 1, 'description': 'both stars intact'}, 'position': 1}}\n"
     ]
    }
   ],
   "source": [
    "#hist=hic.history_maker([309365], [1], 'initial', '/projects/b1095/syr904/cmc/cmc-mpi-tidalcapture/rundir/8e5rv0.5rg8z0.002/', 1.0)\n",
    "#np.save('/projects/b1095/syr904/projects/PULSAR2/tc_comparison/test_dict.npy', hist)\n",
    "test_hist = np.load('/projects/b1095/syr904/projects/PULSAR2/tc_comparison/8e5rv0.5rg8z0.002/interact_dict/338216_dict.npy',allow_pickle='TRUE').item()\n",
    "print(test_hist)\n",
    "#test_interact=test_hist[309365]['binint']['binint']\n",
    "#for i in range(len(test_interact)):\n",
    "#    if test_interact[i]\n"
   ]
  },
  {
   "cell_type": "code",
   "execution_count": null,
   "metadata": {
    "collapsed": true
   },
   "outputs": [],
   "source": []
  }
 ],
 "metadata": {
  "kernelspec": {
   "display_name": "Python 3",
   "language": "python",
   "name": "python3"
  },
  "language_info": {
   "codemirror_mode": {
    "name": "ipython",
    "version": 3
   },
   "file_extension": ".py",
   "mimetype": "text/x-python",
   "name": "python",
   "nbconvert_exporter": "python",
   "pygments_lexer": "ipython3",
   "version": "3.6.0"
  }
 },
 "nbformat": 4,
 "nbformat_minor": 2
}
