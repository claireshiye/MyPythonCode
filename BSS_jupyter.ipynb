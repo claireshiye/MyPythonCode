{
 "cells": [
  {
   "cell_type": "code",
   "execution_count": 1,
   "metadata": {},
   "outputs": [
    {
     "name": "stderr",
     "output_type": "stream",
     "text": [
      "/usr/local/lib/python2.7/site-packages/matplotlib/__init__.py:1350: UserWarning:  This call to matplotlib.use() has no effect\n",
      "because the backend has already been chosen;\n",
      "matplotlib.use() must be called *before* pylab, matplotlib.pyplot,\n",
      "or matplotlib.backends is imported for the first time.\n",
      "\n",
      "  warnings.warn(_use_error_msg)\n"
     ]
    }
   ],
   "source": [
    "%matplotlib inline\n",
    "\n",
    "import numpy as np\n",
    "import matplotlib\n",
    "matplotlib.use('PDF')\n",
    "import matplotlib.pyplot as plt\n",
    "from glob import glob\n",
    "import collections\n",
    "from collections import Counter\n",
    "import os, sys\n",
    "import re, gzip\n",
    "import scipy.stats as ss\n",
    "import StringIO\n",
    "import scripts\n",
    "import ns\n",
    "import history_cmc_modified_bss as hbss"
   ]
  },
  {
   "cell_type": "code",
   "execution_count": 2,
   "metadata": {
    "collapsed": true
   },
   "outputs": [],
   "source": [
    "data=np.genfromtxt('/Users/shiye/Documents/ClusterGroup/BSSproject/Modelgt12withpref.dat', dtype='str')\n",
    "path=data[:,0]; prefixstring=data[:,1]\n",
    "#dataz=np.genfromtxt('/Users/shiye/Documents/ClusterGroup/BSSproject/Modelgt12_prop.dat')\n",
    "dataprop=np.genfromtxt('/Users/shiye/Documents/ClusterGroup/BSSproject/Modelgt12properties.dat')\n",
    "tlastcode=dataprop[:,0]; mturnoff=dataprop[:,2]; z=dataprop[:,3]"
   ]
  },
  {
   "cell_type": "code",
   "execution_count": 3,
   "metadata": {
    "collapsed": true
   },
   "outputs": [],
   "source": [
    "##Find Main Sequence Star\n",
    "def find_MS(filepath):\n",
    "    #filepath=str(data[k])\n",
    "    snaps=np.sort(glob(filepath+'*.snap*.dat.gz'))\n",
    "    firstsnap=snaps[0]\n",
    "    lastsnap=snaps[-1]\n",
    "    \n",
    "    #Find prefix\n",
    "    x=firstsnap.replace('.snap0000.dat.gz','')\n",
    "    prefix=x.replace(filepath,'')\n",
    "    \n",
    "    #Find time\n",
    "    t_conv=ns.conv('t',filepath+prefix+'.conv.sh')\n",
    "    time=ns.get_time(lastsnap)*t_conv\n",
    "    \n",
    "    \n",
    "    \n",
    "    #Find mass of MS\n",
    "    #datalast=np.genfromtxt(lastsnap)\n",
    "    #binflag=datalast[:,7]; m=datalast[:,1]; m0=datalast[:,8]; m1=datalast[:,9]\n",
    "    #kstar=datalast[:,14]; k0=datalast[:,17]; k1=datalast[:,18]\n",
    "    #mms=[]\n",
    "    #for j in range(len(binflag)):\n",
    "    #    if binflag[j]==0:\n",
    "    #        if kstar[j]==0 or kstar[j]==1: mms.append(m[j])\n",
    "    #    if binflag[j]==1:\n",
    "    #        if k0[j]==0 or k0[j]==1: mms.append(m0[j])\n",
    "    #        if k1[j]==0 or k1[j]==1: mms.append(m1[j])\n",
    "    \n",
    "    return time, prefix, lastsnap  #, mms"
   ]
  },
  {
   "cell_type": "code",
   "execution_count": 4,
   "metadata": {
    "collapsed": true
   },
   "outputs": [],
   "source": [
    "##Find BSS\n",
    "def find_BSS(lastsnap, mto):\n",
    "    #datalast=np.genfromtxt(lastsnap)\n",
    "    #binflag=datalast[:,7]; m=datalast[:,1]; m0=datalast[:,8]; m1=datalast[:,9]\n",
    "    #kstar=datalast[:,14]; k0=datalast[:,17]; k1=datalast[:,18]\n",
    "    #sid=datalast[:,0]; id0=datalast[:,10]; id1=datalast[:,11]; rposition=datalast[:,2]\n",
    "    ##nbss=0\n",
    "    bif=[]; m0bss=[]; m1bss=[]; k0bss=[]; k1bss=[]; rbss=[]; id0bss=[]; id1bss=[]\n",
    "    #for j in range(len(binflag)):\n",
    "    #    if binflag[j]==0:\n",
    "    #        if kstar[j]==0 or kstar[j]==1:\n",
    "    #            if m[j]>=1.05*mto: \n",
    "    #                #nbss+=1\n",
    "    #                bif.append(0); m0bss.append(m[j]); m1bss.append(-100)\n",
    "    #                k0bss.append(kstar[j]); k1bss.append(-100); rbss.append(rposition[j])\n",
    "    #                id0bss.append(sid[j]); id1bss.append(-100)\n",
    "    #    if binflag[j]==1:\n",
    "    #        if k0[j]==0 or k0[j]==1:\n",
    "    #            if m0[j]>=1.05*mto: \n",
    "    #                #nbss+=1\n",
    "    #                bif.append(1); m0bss.append(m0[j]); m1bss.append(m1[j])\n",
    "    #                k0bss.append(k0[j]); k1bss.append(k1[j]); rbss.append(rposition[j])\n",
    "    #                id0bss.append(id0[j]); id1bss.append(id1[j])\n",
    "    #        if k1[j]==0 or k1[j]==1:\n",
    "    #            if m1[j]>=1.05*mto: \n",
    "    #                #nbss+=1\n",
    "    #                bif.append(1); m0bss.append(m1[j]); m1bss.append(m0[j])\n",
    "    #                k0bss.append(k1[j]); k1bss.append(k0[j]); rbss.append(rposition[j])\n",
    "    #                id0bss.append(id1[j]); id1bss.append(id0[j])\n",
    "    #                \n",
    "    #return nbss\n",
    "    \n",
    "    ##Memory free version\n",
    "    with gzip.open(lastsnap, 'r') as f:\n",
    "        for _ in xrange(2):\n",
    "            next(f)\n",
    "        for line in f:\n",
    "            #print line\n",
    "            datalast=line.split()\n",
    "            if int(datalast[7])==0:\n",
    "                if int(datalast[14])==0 or int(datalast[14])==1:\n",
    "                    if float(datalast[1])>=1.05*mto:\n",
    "                        bif.append(0); m0bss.append(float(datalast[1])); m1bss.append(-100)\n",
    "                        k0bss.append(int(datalast[14])); k1bss.append(-100); rbss.append(float(datalast[2]))\n",
    "                        id0bss.append(int(datalast[0])); id1bss.append(-100)\n",
    "            if int(datalast[7])==1:\n",
    "                if int(datalast[17])==0 or int(datalast[17])==1:\n",
    "                    if float(datalast[8])>=1.05*mto:\n",
    "                        bif.append(1); m0bss.append(float(datalast[8])); m1bss.append(float(datalast[9]))\n",
    "                        k0bss.append(int(datalast[17])); k1bss.append(int(datalast[18])); rbss.append(float(datalast[2]))\n",
    "                        id0bss.append(int(datalast[10])); id1bss.append(int(datalast[11]))\n",
    "                        \n",
    "                if int(datalast[18])==0 or int(datalast[18])==1:\n",
    "                    if float(datalast[9])>=1.05*mto:\n",
    "                        bif.append(1); m0bss.append(float(datalast[9])); m1bss.append(float(datalast[8]))\n",
    "                        k0bss.append(int(datalast[18])); k1bss.append(int(datalast[17])); rbss.append(float(datalast[2]))\n",
    "                        id0bss.append(int(datalast[11])); id1bss.append(int(datalast[10]))\n",
    "                            \n",
    "        \n",
    "    return bif, m0bss, m1bss, k0bss, k1bss, rbss, id0bss, id1bss"
   ]
  },
  {
   "cell_type": "code",
   "execution_count": 5,
   "metadata": {
    "collapsed": true
   },
   "outputs": [],
   "source": [
    "##Find BH\n",
    "def find_BH(lastsnap):\n",
    "    datalast=np.genfromtxt(lastsnap)\n",
    "    binflag=datalast[:,7]; kstar=datalast[:,14]; k0=datalast[:,17]; k1=datalast[:,18]\n",
    "    nbh=0\n",
    "    for j in range(len(binflag)):\n",
    "        if binflag[j]==0:\n",
    "            if kstar[j]==14: nbh+=1\n",
    "        if binflag[j]==1:\n",
    "            if k0[j]==14: nbh+=1\n",
    "            if k1[j]==14: nbh+=1\n",
    "        \n",
    "    return nbh"
   ]
  },
  {
   "cell_type": "code",
   "execution_count": 6,
   "metadata": {
    "collapsed": true
   },
   "outputs": [],
   "source": [
    "def find_z(filepath):\n",
    "    meta=-100\n",
    "    #filepath=str(data[i])\n",
    "    for fname in os.listdir(filepath):\n",
    "        if fname.endswith('.cmc'):\n",
    "            cmcfile=glob(filepath+'/'+'*.cmc')\n",
    "            #print cmcfile\n",
    "            thecmcfi=cmcfile[0]\n",
    "            with open(thecmcfi) as fi:\n",
    "                for line in fi:\n",
    "                    if re.findall('OVERWRITE_Z', line):\n",
    "                        l=re.findall('\\d+\\.\\d+', line)\n",
    "                        meta=float(l[0])\n",
    "         \n",
    "    if meta==-100:\n",
    "        for fname in os.listdir(filepath):\n",
    "            if fname.endswith('.sh'):\n",
    "                shfile=glob(filepath+'*.sh')\n",
    "                for i in range(len(shfile)):\n",
    "                    s=shfile[i]\n",
    "                    s=s.replace(filepath, '')\n",
    "                    if s[:2]=='ge': \n",
    "                        theshfi=filepath+s; print theshfi\n",
    "                        with open(theshfi) as fish:\n",
    "                            for line in fish:\n",
    "                                if re.findall('-Z', line):\n",
    "                                    l=re.findall('-Z ([\\d.]+)', line)\n",
    "                                    meta=float(l[0])\n",
    "                                    break                \n",
    "\n",
    "    return meta"
   ]
  },
  {
   "cell_type": "code",
   "execution_count": 7,
   "metadata": {
    "collapsed": true
   },
   "outputs": [],
   "source": [
    "##Plot Mass Distribution\n",
    "def plot_massdist():\n",
    "    for k in range(0, 600, 100):\n",
    "        filepath=str(data[k])\n",
    "        time, mms=find_MS(filepath)\n",
    "        mtoguess=scripts.find_MS_turnoff(time)\n",
    "        print mtoguess\n",
    "        z=dataz[k]\n",
    "        mtotrue=scripts.find_MS_TO(time, z, mtoguess)\n",
    "        print mtotrue\n",
    "        \n",
    "        plt.figure()\n",
    "        plt.yscale('log')\n",
    "        plt.hist(mms, bins=50,color='orange')\n",
    "        plt.axvline(x=mtotrue, color='b', linestyle='--')\n",
    "        plt.xlabel(r'$mass(M_{\\odot})$')\n",
    "        #plt.title(filepath)\n",
    "        plt.show()"
   ]
  },
  {
   "cell_type": "code",
   "execution_count": 8,
   "metadata": {
    "collapsed": true
   },
   "outputs": [],
   "source": [
    "##Printout Nbss-Nbh-Ntot of All Models\n",
    "\n",
    "def printout_Nbss_Nbh():\n",
    "    #handle=StringIO.StringIO()\n",
    "    #sys.stdout=handle\n",
    "    fhandle=open('/Users/shiye/Documents/ClusterGroup/BSSproject/Num1.dat', 'a', 0)\n",
    "    for k in range(577, len(data)):\n",
    "        filepath=str(data[k])\n",
    "        t, pref, ls=find_MS(filepath)\n",
    "        mtoguess=scripts.find_MS_turnoff(t)\n",
    "        z=dataz[k]\n",
    "        mtotrue=scripts.find_MS_TO(t, z, mtoguess)\n",
    "            \n",
    "        Nbss=int(find_BSS(ls, mtotrue))\n",
    "            \n",
    "        if os.path.isfile(filepath+pref+'.bh.dat'):\n",
    "            with open(filepath+pref+'.bh.dat') as fi:\n",
    "                for line in fi: pass\n",
    "                databh=line.split()\n",
    "            Nbh=int(databh[2])\n",
    "        else:\n",
    "            Nbh=int(find_BH(ls))\n",
    "            \n",
    "        with open(filepath+pref+'.dyn.dat') as fo:\n",
    "            for line in fo: pass\n",
    "            datatot=line.split()\n",
    "        Ntot=int(datatot[3])\n",
    "            \n",
    "            \n",
    "        #fhandle.write(handle.getvalue())\n",
    "        #print Nbss, Nbh, Ntot\n",
    "        fhandle.write('%d %d %d\\n'%(Nbss, Nbh, Ntot))\n",
    "        #sys.stdout.close()\n",
    "        "
   ]
  },
  {
   "cell_type": "code",
   "execution_count": 9,
   "metadata": {
    "collapsed": true
   },
   "outputs": [],
   "source": [
    "##Plot Nbh-Nbss\n",
    "def plot_Nbh_Nbss():\n",
    "    datan=np.genfromtxt('/Users/shiye/Documents/ClusterGroup/BSSproject/Num.dat')\n",
    "    Nbss=np.array(datan[:,0])\n",
    "    NBSS=Nbss.astype(float)\n",
    "    Nbh=np.array(datan[:,1])\n",
    "    NBH=Nbh.astype(float)\n",
    "    Ntot=np.array(datan[:,2])\n",
    "    NTOT=Ntot.astype(float)\n",
    "    #print np.log(NBSS/NTOT), np.log(NBH/NTOT)\n",
    "    \n",
    "    rho, p=ss.spearmanr(np.log(NBH/NTOT), np.log(NBSS/NTOT))\n",
    "    print rho, p    \n",
    "\n",
    "    plt.figure()\n",
    "    plt.scatter(np.log(NBH/NTOT), np.log(NBSS/NTOT), marker='.')\n",
    "    #plt.xlim(-10., -1.)\n",
    "    #plt.ylim(-10., -1.)\n",
    "    #plt.xscale('symlog')\n",
    "    #plt.yscale('symlog')\n",
    "    plt.xlabel('Nbh/Ntot')\n",
    "    plt.ylabel('Nbss/Ntot')\n",
    "    #plt.show()\n",
    "    plt.savefig('/Users/shiye/Documents/ClusterGroup/BSSproject/nbhnbss_log.png')"
   ]
  },
  {
   "cell_type": "code",
   "execution_count": 10,
   "metadata": {
    "collapsed": true
   },
   "outputs": [],
   "source": [
    "##Printout Nbss-single-binary\n",
    "def printout_Nbss_sinbin():\n",
    "    NBSS_sin=[]; NBSS_bin=[]\n",
    "    bssfile=np.sort(glob('/Users/shiye/Documents/ClusterGroup/BSSproject/BSS_mcut1.05_lastsnap/BSS*.dat'))\n",
    "    for k in range(len(bssfile)):\n",
    "        nbss_sin=0; nbss_bin=0\n",
    "        with open(bssfile[k], 'r') as fi:\n",
    "            for _ in xrange(2):\n",
    "                next(fi)\n",
    "            for line in fi:\n",
    "                databss=line.split()\n",
    "                if int(databss[0])==0:\n",
    "                    nbss_sin+=1\n",
    "                if int(databss[0])==1:\n",
    "                    nbss_bin+=1\n",
    "        \n",
    "        NBSS_sin.append(nbss_sin)\n",
    "        NBSS_bin.append(nbss_bin)\n",
    "        \n",
    "    np.savetxt('/Users/shiye/Documents/ClusterGroup/BSSproject/Num_sin_bin.dat', np.c_[NBSS_sin, NBSS_bin], fmt='%d %d', delimiter=' ', header='1.Nbss_single, 2. Nbss_binary', comments='#')\n"
   ]
  },
  {
   "cell_type": "code",
   "execution_count": 11,
   "metadata": {
    "collapsed": true
   },
   "outputs": [],
   "source": [
    "##Plot Nbh-Nbss-single-binary\n",
    "def plot__Nbss_sinbin():\n",
    "    datan=np.genfromtxt('/Users/shiye/Documents/ClusterGroup/BSSproject/bssnum.dat')\n",
    "    NBSS=datan[:,0]; NBH=datan[:,1]; NTOT=datan[:,2]; NBSSSI=datan[:,3]; NBSSBI=datan[:,4]\n",
    "    \n",
    "    rho, p=ss.spearmanr(np.log(NBH/NTOT), np.log(NBSS/NTOT))\n",
    "    rhos, ps=ss.spearmanr(np.log(NBH/NTOT), np.log(NBSSSI/NTOT))\n",
    "    rhob, pb=ss.spearmanr(np.log(NBH/NTOT), np.log(NBSSBI/NTOT))\n",
    "    \n",
    "    print rho, p\n",
    "    print rhos, ps\n",
    "    print rhob, pb\n",
    "    \n",
    "    plt.figure(1)\n",
    "    plt.scatter(np.log(NBH/NTOT), np.log(NBSSSI/NTOT), color='purple', label='single', s=8)\n",
    "    plt.scatter(np.log(NBH/NTOT), np.log(NBSSBI/NTOT), color='orange', label='binary', s=5, alpha=0.7)\n",
    "    plt.xlabel('log(Nbh/Ntot)')\n",
    "    plt.ylabel('log(Nbss/Ntot)')\n",
    "    plt.legend(loc='lower left')\n",
    "    \n",
    "    #plt.figure(2)\n",
    "    #plt.scatter(np.log(NBH/NTOT), np.log(NBSSBI/NTOT), color='orange', label='binary', s=8)\n",
    "    #plt.xlabel('Nbh/Ntot')\n",
    "    #plt.ylabel('Nbss/Ntot')\n",
    "    #plt.legend(loc='lower left')\n",
    "    \n",
    "    #plt.subplot(133)\n",
    "    #plt.scatter(np.log(NBH/NTOT), np.log(NBSS/NTOT), marker='.')\n",
    "    #plt.xlabel('Nbh/Ntot')\n",
    "    #plt.ylabel('Nbss/Ntot')\n",
    "    \n",
    "    plt.savefig('/Users/shiye/Documents/ClusterGroup/BSSproject/nbhnbss_all.png', dpi = 300)\n",
    "    #plt.show()\n",
    "    "
   ]
  },
  {
   "cell_type": "code",
   "execution_count": 12,
   "metadata": {
    "collapsed": true
   },
   "outputs": [],
   "source": [
    "##Find hrdiag_L_T\n",
    "def hrdiag_LT():\n",
    "    filestring='/Volumes/homes/sourav/CMC_results/BH_variations/kickoutputtest_variations/rundir/wind1/z0.001/normalkick/initial'\n",
    "    snapno='0096'\n",
    "    scripts.hrdiag_L_T(filestring, snapno)"
   ]
  },
  {
   "cell_type": "code",
   "execution_count": 13,
   "metadata": {
    "collapsed": true
   },
   "outputs": [],
   "source": [
    "##Plot hrdiag\n",
    "def plot_hrdiag(filepath):\n",
    "    t, pref, ls=find_MS(filepath)\n",
    "    mtoguess=scripts.find_MS_turnoff(t)\n",
    "    z=dataz[48]\n",
    "    mtotrue=scripts.find_MS_TO(t, z, mtoguess)\n",
    "    \n",
    "    datahrd=np.genfromtxt(filepath+pref+'.snap0096.hrdiag.dat')\n",
    "    binflag=datahrd[:,0]; k0=datahrd[:,1]; k1=datahrd[:,2]; m0=datahrd[:,6]; m1=datahrd[:,7]; Teff=datahrd[:,15]; Leff=datahrd[:,16]\n",
    "    si_bssL=[]; bi_bssL=[]; starL=[]; si_bssT=[]; bi_bssT=[]; starT=[]\n",
    "    for k in range(len(binflag)):\n",
    "        if binflag[k]==1:\n",
    "            if k0[k]==0 or k0[k]==1:\n",
    "                if m0[k]>=1.05*mtotrue:\n",
    "                    bi_bssT.append(Teff[k]); bi_bssL.append(Leff[k])\n",
    "                else:\n",
    "                    starT.append(Teff[k]); starL.append(Leff[k])\n",
    "                    \n",
    "            elif k1[k]==0 or k1[k]==1:\n",
    "                if m1[k]>=1.05*mtotrue:\n",
    "                    bi_bssT.append(Teff[k]); bi_bssL.append(Leff[k])\n",
    "                else:\n",
    "                    starT.append(Teff[k]); starL.append(Leff[k])\n",
    "            else:\n",
    "                starT.append(Teff[k]); starL.append(Leff[k])\n",
    "        else:\n",
    "            if k0[k]==0 or k0[k]==1:\n",
    "                if m0[k]>=1.05*mtotrue:\n",
    "                    si_bssT.append(Teff[k]); si_bssL.append(Leff[k])\n",
    "                else:\n",
    "                    starT.append(Teff[k]); starL.append(Leff[k])\n",
    "            else:\n",
    "                starT.append(Teff[k]); starL.append(Leff[k])\n",
    "    \n",
    "    plt.figure()\n",
    "    plt.xlabel(r'$log(T_{eff}/K)$')\n",
    "    plt.ylabel(r'$log(L_{eff}/L_{\\odot})$')\n",
    "    plt.xlim(3.3, 4.2)\n",
    "    plt.ylim(-3.5, 4)\n",
    "    plt.scatter(starT, starL, marker='.', s=3, edgecolors='none', facecolor='k')\n",
    "    plt.scatter(si_bssT, si_bssL, marker='o', s=5, facecolors='none', edgecolors='r', label='single')\n",
    "    plt.scatter(bi_bssT, bi_bssL, marker='^', s=5, facecolors='none', edgecolors='b', label='binary')\n",
    "    plt.gca().invert_xaxis()\n",
    "    plt.legend()\n",
    "    #plt.show()\n",
    "    plt.savefig('/Users/shiye/Documents/ClusterGroup/BSSproject/hrd.png', dpi = 300)"
   ]
  },
  {
   "cell_type": "code",
   "execution_count": 14,
   "metadata": {
    "collapsed": true
   },
   "outputs": [],
   "source": [
    "##Print out BSS of all models\n",
    "def printout_BSS(start, end):\n",
    "    for k in range(start, end):\n",
    "        filepath=str(data[k])\n",
    "        t, pref, ls=find_MS(filepath)\n",
    "        l_conv=ns.conv('l',filepath+pref+'.conv.sh')\n",
    "        mtoguess=scripts.find_MS_turnoff(t)\n",
    "        z=dataz[k]\n",
    "        mtotrue=scripts.find_MS_TO(t, z, mtoguess)\n",
    "        strnum=str(k).zfill(4)\n",
    "        fhandle=open('/Users/shiye/Documents/ClusterGroup/BSSproject/BSS_mcut1.05_lastsnap/'+'BSS'+strnum+'.dat', 'a+', 0)\n",
    "        bf, m0_bss, m1_bss, k0_bss, k1_bss, r_bss, id0_bss, id1_bss=find_BSS(ls, mtotrue)\n",
    "        r_bsspc = [x * l_conv for x in r_bss]\n",
    "        fhandle.write('#%s\\n'%(filepath))\n",
    "        np.savetxt(fhandle, np.c_[bf, id0_bss, id1_bss, m0_bss, m1_bss, k0_bss, k1_bss, r_bsspc], fmt ='%d %d %d %f %f %d %d %f', delimiter= ' ', header = '1.binflag, 2.id0, 3.id1, 4.m0[msun], 5.m1[msun], 6.k0, 7.k1, 8.r[pc]', comments = '#')\n",
    "        #print k\n",
    "        print strnum"
   ]
  },
  {
   "cell_type": "code",
   "execution_count": 15,
   "metadata": {
    "collapsed": true
   },
   "outputs": [],
   "source": [
    "##Classify BSS\n",
    "def class_bss(start, end):\n",
    "    bssfile=np.sort(glob('/Users/shiye/Documents/ClusterGroup/BSSproject/BSS_mcut1.05_lastsnap/BSS*.dat'))\n",
    "    #COLL_SS=[]; COLL_BS=[]; COLL_BB=[]; SE=[]; SE_MERGER=[]; SE_DISRUPT=[]; MTB=[]\n",
    "    fhandle=open('/Users/shiye/Documents/ClusterGroup/BSSproject/'+'BSSclass_500more.dat', 'a', 0)\n",
    "    #fhandle.write('#1.coll, 2.coll_ss, 3.coll_bs, 4.coll_bb, 5.se, 6.se_merger, 7.se_disrupt, 8.se_binint, 9.mtb, 10.mtb_pure, 11.mtb_binint\\n')\n",
    "    for k in range(start, end):\n",
    "        COLL=0; COLL_SS=0; COLL_BS=0; COLL_BB=0\n",
    "        SE=0; SE_MERGER=0; SE_DISRUPT=0; SE_BININT=0\n",
    "        MTB=0; MTB_PURE=0; MTB_BININT=0\n",
    "        \n",
    "        filepath=path[k]\n",
    "        pref=prefixstring[k]\n",
    "        filestr=filepath+pref\n",
    "        mcut=1.05*mturnoff[k]; tnow=tlastcode[k]; zmodel=z[k]\n",
    "        \n",
    "        binintstring=filestr+'.binint.log'\n",
    "        binint=glob(binintstring)\n",
    "        binary=1\n",
    "        if len(binint)==0: binary=0\n",
    "            \n",
    "        with open(bssfile[k], 'r') as fi:\n",
    "            for _ in xrange(2):\n",
    "                next(fi)\n",
    "            for line in fi:\n",
    "                databss=line.split()\n",
    "                theid=[long(databss[1])]\n",
    "                hdict=hbss.history_maker(theid, [1], pref, filepath, binary)\n",
    "                bss_coll, bss_ss_coll, bss_bs_coll, bss_bb_coll, bss_se, bss_se_merger, bss_se_disruption, bss_had_binint, bss_mtb, bss_mtb_pure, bss_se_binint, bss_mtb_binint, actual_t, actual_position, star_id=hbss.classifying_BSS(hdict, long(databss[1]), binary, mcut, tnow, filestr, zmodel)\n",
    "                #print bss_coll, bss_ss_coll, bss_bs_coll, bss_bb_coll, bss_se, bss_se_merger, bss_se_disruption, bss_had_binint, bss_mtb, bss_mtb_pure, bss_se_binint, bss_mtb_binint, actual_t, actual_position, star_id\n",
    "                \n",
    "                COLL+=bss_coll; COLL_SS+=bss_ss_coll; COLL_BS+=bss_bs_coll; COLL_BB+=bss_bb_coll\n",
    "                SE+=bss_se; SE_MERGER+=bss_se_merger; SE_DISRUPT+=bss_se_disruption; SE_BININT+=bss_se_binint\n",
    "                MTB+=bss_mtb; MTB_PURE+=bss_mtb_pure; MTB_BININT+=bss_mtb_binint          \n",
    "\n",
    "        fhandle.write('%d %d %d %d %d %d %d %d %d %d %d\\n'%(COLL, COLL_SS, COLL_BS, COLL_BB, SE, SE_MERGER, SE_DISRUPT, SE_BININT, MTB, MTB_PURE, MTB_BININT))\n",
    "        \n",
    "        print k\n",
    "        "
   ]
  },
  {
   "cell_type": "code",
   "execution_count": 16,
   "metadata": {},
   "outputs": [],
   "source": [
    "##Extract semimajor axis and eccentricity from history dictionary\n",
    "def find_binint_ae(hdict, theid, comid, stringnum):\n",
    "    ain=0; ein=0; aout=0; eout=0\n",
    "    for j in hdict[theid]['binint']['binint'].keys():\n",
    "        for i in hdict[theid]['binint']['binint'][j]['interaction']['input'].keys():\n",
    "            idlenin=len(hdict[theid]['binint']['binint'][j]['interaction']['input'][i]['ids'])\n",
    "            if idlenin==2:\n",
    "                #print str(hdict[theid]['binint']['binint'][j]['interaction']['input'][i]['ids'][0]), str(hdict[theid]['binint']['binint'][j]['interaction']['input'][i]['ids'][1])\n",
    "                if str(hdict[theid]['binint']['binint'][j]['interaction']['input'][i]['ids'][0]).rfind(':')<=-1 and str(hdict[theid]['binint']['binint'][j]['interaction']['input'][i]['ids'][1]).rfind(':')<=-1:\n",
    "                    if long(hdict[theid]['binint']['binint'][j]['interaction']['input'][i]['ids'][0])==theid and long(hdict[theid]['binint']['binint'][j]['interaction']['input'][i]['ids'][1])==comid:\n",
    "                        ain=float(hdict[theid]['binint']['binint'][j]['interaction']['input'][i]['a'])\n",
    "                        ein=float(hdict[theid]['binint']['binint'][j]['interaction']['input'][i]['e'])\n",
    "                        minp=float(hdict[theid]['binint']['binint'][j]['interaction']['input'][i]['m'][0])\n",
    "                        #print ain, ein, minp\n",
    "                \n",
    "                    if long(hdict[theid]['binint']['binint'][j]['interaction']['input'][i]['ids'][1])==theid and long(hdict[theid]['binint']['binint'][j]['interaction']['input'][i]['ids'][0])==comid:\n",
    "                        ain=float(hdict[theid]['binint']['binint'][j]['interaction']['input'][i]['a'])\n",
    "                        ein=float(hdict[theid]['binint']['binint'][j]['interaction']['input'][i]['e'])\n",
    "                        minp=float(hdict[theid]['binint']['binint'][j]['interaction']['input'][i]['m'][1])\n",
    "                        #print ain, ein, minp\n",
    "\n",
    "\n",
    "        if ain!=0:\n",
    "            for o in hdict[theid]['binint']['binint'][j]['interaction']['output'].keys():\n",
    "                idlenout=len(hdict[theid]['binint']['binint'][j]['interaction']['output'][o]['ids'])\n",
    "                if idlenout==2:\n",
    "                    if str(hdict[theid]['binint']['binint'][j]['interaction']['output'][o]['ids'][0]).rfind(':')<=-1 and str(hdict[theid]['binint']['binint'][j]['interaction']['output'][o]['ids'][1]).rfind(':')<=-1:\n",
    "                        if long(hdict[theid]['binint']['binint'][j]['interaction']['output'][o]['ids'][0])==theid and long(hdict[theid]['binint']['binint'][j]['interaction']['output'][o]['ids'][1])==comid:\n",
    "                            aout=float(hdict[theid]['binint']['binint'][j]['interaction']['output'][o]['a'][0])\n",
    "                            eout=float(hdict[theid]['binint']['binint'][j]['interaction']['output'][o]['e'][0])\n",
    "                            mout=float(hdict[theid]['binint']['binint'][j]['interaction']['output'][o]['m'][0])\n",
    "                            #print aout, eout, mout\n",
    "\n",
    "                        if long(hdict[theid]['binint']['binint'][j]['interaction']['output'][o]['ids'][1])==theid and long(hdict[theid]['binint']['binint'][j]['interaction']['output'][o]['ids'][0])==comid:\n",
    "                            aout=float(hdict[theid]['binint']['binint'][j]['interaction']['output'][o]['a'][0])\n",
    "                            eout=float(hdict[theid]['binint']['binint'][j]['interaction']['output'][o]['e'][0])\n",
    "                            mout=float(hdict[theid]['binint']['binint'][j]['interaction']['output'][o]['m'][1])\n",
    "                            #print aout, eout, mout\n",
    "\n",
    "                if idlenout==3:\n",
    "                    if str(hdict[theid]['binint']['binint'][j]['interaction']['output'][o]['ids'][0]).rfind(':')<=-1 and str(hdict[theid]['binint']['binint'][j]['interaction']['output'][o]['ids'][1]).rfind(':')<=-1:\n",
    "                        if long(hdict[theid]['binint']['binint'][j]['interaction']['output'][o]['ids'][0])==theid and long(hdict[theid]['binint']['binint'][j]['interaction']['output'][o]['ids'][1])==comid:\n",
    "                            aout=float(hdict[theid]['binint']['binint'][j]['interaction']['output'][o]['a'][0])\n",
    "                            eout=float(hdict[theid]['binint']['binint'][j]['interaction']['output'][o]['e'][0])\n",
    "                            mout=float(hdict[theid]['binint']['binint'][j]['interaction']['output'][o]['m'][0])\n",
    "                            #print aout, eout, mout\n",
    "\n",
    "                        if long(hdict[theid]['binint']['binint'][j]['interaction']['output'][o]['ids'][1])==theid and long(hdict[theid]['binint']['binint'][j]['interaction']['output'][o]['ids'][0])==comid:\n",
    "                            aout=float(hdict[theid]['binint']['binint'][j]['interaction']['output'][o]['a'][0])\n",
    "                            eout=float(hdict[theid]['binint']['binint'][j]['interaction']['output'][o]['e'][0])\n",
    "                            mout=float(hdict[theid]['binint']['binint'][j]['interaction']['output'][o]['m'][1])\n",
    "                            #print aout, eout, mout\n",
    "\n",
    "                if aout!=0:\n",
    "                        typeint=hdict[theid]['binint']['binint'][j]['interaction']['type']['type']\n",
    "                        timeint=float(hdict[theid]['binint']['binint'][j]['interaction']['type']['time'])\n",
    "\n",
    "\n",
    "\n",
    "        if ain!=0 and aout!=0:\n",
    "            fbinint=open('/Users/shiye/Documents/ClusterGroup/BSSproject/BSS_class/'+'BSSint'+stringnum+'.dat', 'a+',0)\n",
    "            fbinint.write('%d %f %s %f %f %f %f %f %f\\n'%(theid, timeint, typeint, ain, ein, minp, aout, eout, mout))\n",
    "\n",
    "                  \n",
    "\n",
    "\n"
   ]
  },
  {
   "cell_type": "code",
   "execution_count": 17,
   "metadata": {
    "collapsed": true
   },
   "outputs": [],
   "source": [
    "##Classify BSS\n",
    "def printout_class_bss(start, end):\n",
    "    bssfile=np.sort(glob('/Users/shiye/Documents/ClusterGroup/BSSproject/BSS_mcut1.05_lastsnap/BSS*.dat'))\n",
    "    for k in range(start, end):\n",
    "        filepath=path[k]\n",
    "        pref=prefixstring[k]\n",
    "        filestr=filepath+pref\n",
    "        mcut=1.05*mturnoff[k]; tnow=tlastcode[k]; zmodel=z[k]\n",
    "        \n",
    "        l_conv=ns.conv('l',filestr+'.conv.sh')\n",
    "        \n",
    "        strnum=str(k).zfill(4)\n",
    "        fhandle=open('/Users/shiye/Documents/ClusterGroup/BSSproject/BSS_class/'+'BSSclass'+strnum+'.dat', 'a+', 0)\n",
    "        fhandle.write('#1.star_id, 2.bss_coll, 3.bss_ss_coll, 4.bss_bs_coll, 5.bss_bb_coll, 6.bss_se, 7.bss_se_merger, 8.bss_se_disruption, 9.bss_had_binint, 10.bss_mtb, 11.bss_mtb_pure, 12.bss_se_binint, 13.bss_mtb_binint, 14.actual_t, 15.actual_position, 16.primordial_binary\\n')\n",
    "        binintstring=filestr+'.binint.log'\n",
    "        binint=glob(binintstring)\n",
    "        binary=1\n",
    "        if len(binint)==0: binary=0\n",
    "            \n",
    "        with open(bssfile[k], 'r') as fi:\n",
    "            for _ in xrange(2):\n",
    "                next(fi)\n",
    "            for line in fi:\n",
    "                databss=line.split()\n",
    "                theid=long(databss[1]); poscode=float(databss[7])/l_conv\n",
    "                hd=hbss.history_maker([theid], [poscode], pref, filepath, binary)\n",
    "                bss_coll, bss_ss_coll, bss_bs_coll, bss_bb_coll, bss_se, bss_se_merger, bss_se_disruption, bss_had_binint, bss_mtb, bss_mtb_pure, bss_se_binint, bss_mtb_binint, actual_t, actual_position, star_id=hbss.classifying_BSS(hd, long(databss[1]), binary, mcut, tnow, filestr, zmodel)\n",
    "                #print bss_coll, bss_ss_coll, bss_bs_coll, bss_bb_coll, bss_se, bss_se_merger, bss_se_disruption, bss_had_binint, bss_mtb, bss_mtb_pure, bss_se_binint, bss_mtb_binint, actual_t, actual_position, star_id\n",
    "                \n",
    "                pribin=0\n",
    "                if bss_mtb==1:\n",
    "                    firstsnap=filestr+'.snap0000.dat.gz'\n",
    "                    with gzip.open(firstsnap, 'r') as fsnap:\n",
    "                        for _ in xrange(2):\n",
    "                            next(fsnap)\n",
    "                        for line in fsnap:\n",
    "                            datasnap=line.split()\n",
    "                            if int(datasnap[7])==1:\n",
    "                                if long(datasnap[10])==theid: pribin=1; compid=long(datasnap[11])\n",
    "                                if long(datasnap[11])==theid: pribin=1; compid=long(datasnap[10])\n",
    "                \n",
    "                if pribin==1 and bss_had_binint==1:\n",
    "                    find_binint_ae(hd, theid, compid, strnum)\n",
    "                                      \n",
    "                fhandle.write('%d %d %d %d %d %d %d %d %d %d %d %d %d %f %f %d\\n'%(star_id, bss_coll, bss_ss_coll, bss_bs_coll, bss_bb_coll, bss_se, bss_se_merger, bss_se_disruption, bss_had_binint, bss_mtb, bss_mtb_pure, bss_se_binint, bss_mtb_binint, actual_t, actual_position, pribin))\n",
    "                \n",
    "        \n",
    "        print k"
   ]
  },
  {
   "cell_type": "code",
   "execution_count": 18,
   "metadata": {
    "collapsed": true
   },
   "outputs": [],
   "source": [
    "##Plot Nbh_Nbss class\n",
    "def plot_Nbss_class():\n",
    "    datan=np.genfromtxt('/Users/shiye/Documents/ClusterGroup/BSSproject/bssnum.dat')\n",
    "    NBSS=datan[:,0]; NBH=datan[:,1]; NTOT=datan[:,2]; NBSSSI=datan[:,3]; NBSSBI=datan[:,4]\n",
    "    dataclass=np.genfromtxt('/Users/shiye/Documents/ClusterGroup/BSSproject/BSSclass.dat')\n",
    "    COLL=dataclass[:,0]; MTB=dataclass[:,8]\n",
    "    nbh=[]; ntot=[]; coll=[]; mtb=[]\n",
    "    for i in range(len(COLL)):\n",
    "        if COLL[i]!=-100:\n",
    "            nbh.append(NBH[i]); ntot.append(NTOT[i])\n",
    "            coll.append(COLL[i]); mtb.append(MTB[i])\n",
    "    \n",
    "    \n",
    "    nbh=np.array(nbh); ntot=np.array(ntot); coll=np.array(coll); mtb=np.array(mtb)\n",
    "    \n",
    "    rhocoll, pcoll=ss.spearmanr(np.log(nbh/ntot), np.log(coll/ntot))\n",
    "    rhomtb, pmtb=ss.spearmanr(np.log(nbh/ntot), np.log(mtb/ntot))\n",
    "    print rhocoll, pcoll\n",
    "    print rhomtb, pmtb\n",
    "    \n",
    "    plt.figure()\n",
    "    plt.scatter(np.log(nbh/ntot), np.log(coll/ntot), color='blue', s=8, label='coll')\n",
    "    plt.scatter(np.log(nbh/ntot), np.log(mtb/ntot), color='red', alpha=0.7, s=8, label='mtb')\n",
    "    plt.legend(loc='lower left')\n",
    "    plt.xlabel('log(Nbh/Ntot)')\n",
    "    plt.ylabel('log(Nbss/Ntot)')\n",
    "    \n",
    "    plt.savefig('/Users/shiye/Documents/ClusterGroup/BSSproject/nbhnbss_class.png', dpi = 300)\n",
    "    #plt.show()"
   ]
  },
  {
   "cell_type": "code",
   "execution_count": 19,
   "metadata": {
    "collapsed": true
   },
   "outputs": [],
   "source": [
    "##Find metallicity, turnoff mass and lastsnap time for Models\n",
    "#z=[]; mto=[]; tlast=[]; tlastcode=[]; prefix=[]\n",
    "#for i in range(len(data)):\n",
    "#    filepath= data[i]\n",
    "#    \n",
    "#    ##Metallicity\n",
    "#    #z.append(find_z(filepath))\n",
    "#    \n",
    "#    ##tlast, turnoff mass and prefix\n",
    "#    t, pref, ls=find_MS(filepath)\n",
    "#    #tcode=ns.get_time(ls)\n",
    "#    #mtoguess=scripts.find_MS_turnoff(t)\n",
    "#    #z=dataz[i]\n",
    "#    #mtotrue=scripts.find_MS_TO(t, z, mtoguess)\n",
    "#    #tlast.append(t); mto.append(mtotrue); tlastcode.append(tcode)\n",
    "#    prefix.append(pref)\n",
    "#    \n",
    "#np.savetxt('/Users/shiye/Documents/ClusterGroup/BSSproject/prefix.dat', np.c_[prefix], fmt='%s')\n",
    "#np.savetxt('/Users/shiye/Documents/ClusterGroup/BSSproject/Modelgt12_prop_appenx.dat', np.c_[tlastcode, tlast, mto], fmt='%f %f %f', header='1.tlastcode, 2.tlast, 3.mto', delimiter=' ', comments='#')\n",
    "#np.savetxt('/Users/shiye/Documents/ClusterGroup/Modelgt12_prop.dat', np.c_[z], fmt='%f')"
   ]
  },
  {
   "cell_type": "code",
   "execution_count": 20,
   "metadata": {
    "collapsed": true
   },
   "outputs": [],
   "source": [
    "#printout_Nbss_Nbh()"
   ]
  },
  {
   "cell_type": "code",
   "execution_count": 21,
   "metadata": {
    "collapsed": true,
    "scrolled": true
   },
   "outputs": [],
   "source": [
    "#plot_Nbh_Nbss()"
   ]
  },
  {
   "cell_type": "code",
   "execution_count": 22,
   "metadata": {
    "collapsed": true
   },
   "outputs": [],
   "source": [
    "#hrdiag_LT()"
   ]
  },
  {
   "cell_type": "code",
   "execution_count": 23,
   "metadata": {
    "collapsed": true
   },
   "outputs": [],
   "source": [
    "#plot_hrdiag('/Volumes/homes/sourav/CMC_results/BH_variations/kickoutputtest_variations/rundir/wind1/z0.001/normalkick/')"
   ]
  },
  {
   "cell_type": "code",
   "execution_count": 24,
   "metadata": {
    "collapsed": true,
    "scrolled": true
   },
   "outputs": [],
   "source": [
    "#printout_BSS(100, 150)"
   ]
  },
  {
   "cell_type": "code",
   "execution_count": 25,
   "metadata": {
    "collapsed": true
   },
   "outputs": [],
   "source": [
    "#printout_Nbss_sinbin()"
   ]
  },
  {
   "cell_type": "code",
   "execution_count": 26,
   "metadata": {
    "collapsed": true,
    "scrolled": true
   },
   "outputs": [],
   "source": [
    "#class_bss(579,597)"
   ]
  },
  {
   "cell_type": "code",
   "execution_count": 27,
   "metadata": {
    "collapsed": true,
    "scrolled": false
   },
   "outputs": [],
   "source": [
    "#plot__Nbss_sinbin()"
   ]
  },
  {
   "cell_type": "code",
   "execution_count": 28,
   "metadata": {
    "collapsed": true
   },
   "outputs": [],
   "source": [
    "#plot_Nbss_class()"
   ]
  },
  {
   "cell_type": "code",
   "execution_count": 29,
   "metadata": {},
   "outputs": [
    {
     "name": "stdout",
     "output_type": "stream",
     "text": [
      "0\n"
     ]
    },
    {
     "ename": "KeyboardInterrupt",
     "evalue": "",
     "output_type": "error",
     "traceback": [
      "\u001b[0;31m---------------------------------------------------------------------------\u001b[0m",
      "\u001b[0;31mKeyboardInterrupt\u001b[0m                         Traceback (most recent call last)",
      "\u001b[0;32m<ipython-input-29-c233a1186460>\u001b[0m in \u001b[0;36m<module>\u001b[0;34m()\u001b[0m\n\u001b[0;32m----> 1\u001b[0;31m \u001b[0mprintout_class_bss\u001b[0m\u001b[0;34m(\u001b[0m\u001b[0;36m0\u001b[0m\u001b[0;34m,\u001b[0m \u001b[0;36m27\u001b[0m\u001b[0;34m)\u001b[0m\u001b[0;34m\u001b[0m\u001b[0m\n\u001b[0m",
      "\u001b[0;32m<ipython-input-17-f4558e6e2c4e>\u001b[0m in \u001b[0;36mprintout_class_bss\u001b[0;34m(start, end)\u001b[0m\n\u001b[1;32m      8\u001b[0m         \u001b[0mmcut\u001b[0m\u001b[0;34m=\u001b[0m\u001b[0;36m1.05\u001b[0m\u001b[0;34m*\u001b[0m\u001b[0mmturnoff\u001b[0m\u001b[0;34m[\u001b[0m\u001b[0mk\u001b[0m\u001b[0;34m]\u001b[0m\u001b[0;34m;\u001b[0m \u001b[0mtnow\u001b[0m\u001b[0;34m=\u001b[0m\u001b[0mtlastcode\u001b[0m\u001b[0;34m[\u001b[0m\u001b[0mk\u001b[0m\u001b[0;34m]\u001b[0m\u001b[0;34m;\u001b[0m \u001b[0mzmodel\u001b[0m\u001b[0;34m=\u001b[0m\u001b[0mz\u001b[0m\u001b[0;34m[\u001b[0m\u001b[0mk\u001b[0m\u001b[0;34m]\u001b[0m\u001b[0;34m\u001b[0m\u001b[0m\n\u001b[1;32m      9\u001b[0m \u001b[0;34m\u001b[0m\u001b[0m\n\u001b[0;32m---> 10\u001b[0;31m         \u001b[0ml_conv\u001b[0m\u001b[0;34m=\u001b[0m\u001b[0mns\u001b[0m\u001b[0;34m.\u001b[0m\u001b[0mconv\u001b[0m\u001b[0;34m(\u001b[0m\u001b[0;34m'l'\u001b[0m\u001b[0;34m,\u001b[0m\u001b[0mfilestr\u001b[0m\u001b[0;34m+\u001b[0m\u001b[0;34m'.conv.sh'\u001b[0m\u001b[0;34m)\u001b[0m\u001b[0;34m\u001b[0m\u001b[0m\n\u001b[0m\u001b[1;32m     11\u001b[0m \u001b[0;34m\u001b[0m\u001b[0m\n\u001b[1;32m     12\u001b[0m         \u001b[0mstrnum\u001b[0m\u001b[0;34m=\u001b[0m\u001b[0mstr\u001b[0m\u001b[0;34m(\u001b[0m\u001b[0mk\u001b[0m\u001b[0;34m)\u001b[0m\u001b[0;34m.\u001b[0m\u001b[0mzfill\u001b[0m\u001b[0;34m(\u001b[0m\u001b[0;36m4\u001b[0m\u001b[0;34m)\u001b[0m\u001b[0;34m\u001b[0m\u001b[0m\n",
      "\u001b[0;32m/Users/shiye/Documents/ClusterGroup/PythonCodes/ns.pyc\u001b[0m in \u001b[0;36mconv\u001b[0;34m(unit, filepath)\u001b[0m\n\u001b[1;32m     24\u001b[0m     \u001b[0mdict\u001b[0m \u001b[0;34m=\u001b[0m \u001b[0mconv_dict\u001b[0m\u001b[0;34m(\u001b[0m\u001b[0;34m)\u001b[0m\u001b[0;34m\u001b[0m\u001b[0m\n\u001b[1;32m     25\u001b[0m     \u001b[0;32mfrom\u001b[0m \u001b[0mre\u001b[0m \u001b[0;32mimport\u001b[0m \u001b[0mfindall\u001b[0m\u001b[0;34m\u001b[0m\u001b[0m\n\u001b[0;32m---> 26\u001b[0;31m     \u001b[0;32mwith\u001b[0m \u001b[0mopen\u001b[0m\u001b[0;34m(\u001b[0m\u001b[0mfilepath\u001b[0m\u001b[0;34m,\u001b[0m\u001b[0;34m'r'\u001b[0m\u001b[0;34m)\u001b[0m \u001b[0;32mas\u001b[0m \u001b[0mf\u001b[0m\u001b[0;34m:\u001b[0m\u001b[0;34m\u001b[0m\u001b[0m\n\u001b[0m\u001b[1;32m     27\u001b[0m         \u001b[0mhead\u001b[0m \u001b[0;34m=\u001b[0m \u001b[0;34m[\u001b[0m\u001b[0mnext\u001b[0m\u001b[0;34m(\u001b[0m\u001b[0mf\u001b[0m\u001b[0;34m)\u001b[0m \u001b[0;32mfor\u001b[0m \u001b[0mx\u001b[0m \u001b[0;32min\u001b[0m \u001b[0mxrange\u001b[0m\u001b[0;34m(\u001b[0m\u001b[0;36m24\u001b[0m\u001b[0;34m)\u001b[0m\u001b[0;34m]\u001b[0m\u001b[0;34m\u001b[0m\u001b[0m\n\u001b[1;32m     28\u001b[0m     \u001b[0;32mreturn\u001b[0m \u001b[0mfloat\u001b[0m\u001b[0;34m(\u001b[0m\u001b[0mfindall\u001b[0m\u001b[0;34m(\u001b[0m\u001b[0;34m'\\d+[\\.]?\\d*'\u001b[0m\u001b[0;34m,\u001b[0m\u001b[0mhead\u001b[0m\u001b[0;34m[\u001b[0m\u001b[0mdict\u001b[0m\u001b[0;34m[\u001b[0m\u001b[0munit\u001b[0m\u001b[0;34m]\u001b[0m\u001b[0;34m]\u001b[0m\u001b[0;34m)\u001b[0m\u001b[0;34m[\u001b[0m\u001b[0;36m0\u001b[0m\u001b[0;34m]\u001b[0m\u001b[0;34m)\u001b[0m\u001b[0;34m\u001b[0m\u001b[0m\n",
      "\u001b[0;31mKeyboardInterrupt\u001b[0m: "
     ]
    }
   ],
   "source": [
    "printout_class_bss(0, 27)"
   ]
  }
 ],
 "metadata": {
  "kernelspec": {
   "display_name": "Python 2",
   "language": "python",
   "name": "python2"
  },
  "language_info": {
   "codemirror_mode": {
    "name": "ipython",
    "version": 2
   },
   "file_extension": ".py",
   "mimetype": "text/x-python",
   "name": "python",
   "nbconvert_exporter": "python",
   "pygments_lexer": "ipython2",
   "version": "2.7.11"
  }
 },
 "nbformat": 4,
 "nbformat_minor": 2
}
