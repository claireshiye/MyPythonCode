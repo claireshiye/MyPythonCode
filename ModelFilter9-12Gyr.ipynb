{
 "cells": [
  {
   "cell_type": "code",
   "execution_count": 13,
   "metadata": {
    "collapsed": true
   },
   "outputs": [],
   "source": [
    "import numpy as np\n",
    "from glob import glob\n",
    "import collections\n",
    "import os,sys\n",
    "import subprocess\n",
    "import math"
   ]
  },
  {
   "cell_type": "code",
   "execution_count": 14,
   "metadata": {
    "collapsed": true
   },
   "outputs": [],
   "source": [
    "data=np.genfromtxt('/Users/shiye/Documents/ClusterGroup/PathListDynamics.dat',dtype='str')"
   ]
  },
  {
   "cell_type": "code",
   "execution_count": 15,
   "metadata": {
    "collapsed": true
   },
   "outputs": [],
   "source": [
    "def conv_dict(): return {'l':15, 't':19}    #?\n",
    "\n",
    "def conv(unit,filepath):   # Returns the unit conversion multiplier given a simulation's *.conv.sh file and a unit (either 'l' or 't')\n",
    "    dict = conv_dict()\n",
    "    from re import findall\n",
    "    with open(filepath,'r') as f:\n",
    "        head = [next(f) for x in xrange(24)]\n",
    "    return float(findall('\\d+[\\.]?\\d*',head[dict[unit]])[0])\n",
    "\n",
    "def get_time(filepath):      # Returns the cluster's age for a given snapshot\n",
    "    import gzip\n",
    "    from re import findall\n",
    "    with gzip.open(filepath,'r') as f: contents = f.readline()\n",
    "    if not findall('\\d+[\\.]?\\d*',contents):        # Returns time = 0 for snapshot files without a time header\n",
    "        print 'snapshot empty'; return float(0)\n",
    "    else: return float(findall('\\d+[\\.]?\\d*',contents)[0])"
   ]
  },
  {
   "cell_type": "code",
   "execution_count": 16,
   "metadata": {},
   "outputs": [
    {
     "name": "stdout",
     "output_type": "stream",
     "text": [
      "0\n",
      "30\n",
      "60\n",
      "90\n",
      "120\n",
      "150\n",
      "180\n",
      "210\n",
      "240\n",
      "270\n",
      "300\n",
      "330\n",
      "360\n",
      "390\n",
      "420\n",
      "450\n",
      "480\n",
      "510\n",
      "540\n",
      "570\n",
      "600\n",
      "630\n",
      "660\n",
      "690\n",
      "720\n",
      "750\n",
      "780\n",
      "810\n",
      "840\n",
      "870\n",
      "900\n",
      "930\n",
      "960\n",
      "990\n",
      "1020\n",
      "1050\n",
      "1080\n"
     ]
    }
   ],
   "source": [
    "remvpath=[]\n",
    "for k in range(len(data)):\n",
    "    path=str(data[k])\n",
    "    snaps=np.sort(glob(path+'*.snap*.dat.gz'))\n",
    "    if not snaps.size: remvpath.append(k)\n",
    "    else:\n",
    "        firstsnap=snaps[0]\n",
    "        lastsnap=snaps[-1]\n",
    "        x=firstsnap.replace('.snap0000.dat.gz','')\n",
    "        prefix=x.replace(path,'')\n",
    "        t_conv=conv('t',path+prefix+'.conv.sh')\n",
    "        time=get_time(lastsnap)*t_conv/1000.\n",
    "        \n",
    "        if time<12.0: remvpath.append(k)\n",
    "    \n",
    "    rm=k%30\n",
    "    if rm==0: print k\n",
    "    \n",
    "#print remvpath\n",
    "new_data=np.delete(data, remvpath)\n",
    "np.savetxt('/Users/shiye/Documents/ClusterGroup/MasterPath.dat', np.c_[new_data], fmt ='%s')"
   ]
  }
 ],
 "metadata": {
  "kernelspec": {
   "display_name": "Python 2",
   "language": "python",
   "name": "python2"
  },
  "language_info": {
   "codemirror_mode": {
    "name": "ipython",
    "version": 2
   },
   "file_extension": ".py",
   "mimetype": "text/x-python",
   "name": "python",
   "nbconvert_exporter": "python",
   "pygments_lexer": "ipython2",
   "version": "2.7.11"
  }
 },
 "nbformat": 4,
 "nbformat_minor": 2
}
