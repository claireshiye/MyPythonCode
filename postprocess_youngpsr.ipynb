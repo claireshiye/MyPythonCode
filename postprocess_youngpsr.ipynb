{
 "cells": [
  {
   "cell_type": "code",
   "execution_count": null,
   "metadata": {
    "collapsed": true
   },
   "outputs": [],
   "source": [
    "import numpy as np\n",
    "import ns\n",
    "from glob import glob"
   ]
  },
  {
   "cell_type": "code",
   "execution_count": null,
   "metadata": {
    "collapsed": true
   },
   "outputs": [],
   "source": [
    "pathlist='/projects/b1011/syr904/projects/PULSAR/kickgrid_path.dat'\n",
    "sourcedir=np.genfromtxt(pathlist, dtype=str)\n",
    "for i in range(len(sourcedir)):\n",
    "    filepath=sourcedir[i]\n",
    "    pref='initial'\n",
    "    filestr=filepath+'/'+pref\n",
    "    snaps=np.sort(glob(filestr+'.snap*.dat.gz'))\n",
    "    lastsnap=snaps[-1]\n",
    "    "
   ]
  }
 ],
 "metadata": {
  "kernelspec": {
   "display_name": "Python 2",
   "language": "python",
   "name": "python2"
  },
  "language_info": {
   "codemirror_mode": {
    "name": "ipython",
    "version": 2
   },
   "file_extension": ".py",
   "mimetype": "text/x-python",
   "name": "python",
   "nbconvert_exporter": "python",
   "pygments_lexer": "ipython2",
   "version": "2.7.13"
  }
 },
 "nbformat": 4,
 "nbformat_minor": 2
}
