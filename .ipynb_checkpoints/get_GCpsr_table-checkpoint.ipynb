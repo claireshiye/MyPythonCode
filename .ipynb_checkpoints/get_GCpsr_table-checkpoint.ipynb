{
 "cells": [
  {
   "cell_type": "code",
   "execution_count": 86,
   "metadata": {
    "collapsed": true
   },
   "outputs": [],
   "source": [
    "import numpy as np\n",
    "import pandas as pd\n",
    "import matplotlib\n",
    "matplotlib.use('PDF')\n",
    "import matplotlib.pyplot as plt\n",
    "import re"
   ]
  },
  {
   "cell_type": "code",
   "execution_count": 87,
   "metadata": {
    "collapsed": false
   },
   "outputs": [],
   "source": [
    "##Get GC pulsar table from the website.\n",
    "from astropy.extern.six.moves.urllib import request\n",
    "url = 'http://www.naic.edu/~pfreire/GCpsr.txt'\n",
    "open('GCpsr.txt', 'wb').write(request.urlopen(url).read())"
   ]
  },
  {
   "cell_type": "code",
   "execution_count": 88,
   "metadata": {
    "collapsed": false
   },
   "outputs": [],
   "source": [
    "##Get P and dPdt\n",
    "def get_ppdot(data):\n",
    "    p=0; dpdt=0\n",
    "    if len(data)>4:\n",
    "        if data[3]!='*':\n",
    "            p=float(data[2])\n",
    "            dpdtnum=re.findall('\\d+\\.\\d+', data[3])\n",
    "            if not dpdtnum: dpdtnum=re.findall('\\d+', data[3])\n",
    "            dpdt=float(dpdtnum[0])\n",
    "            if data[3][0]=='-': dpdt=-1.0*dpdt\n",
    "\n",
    "    return p, dpdt"
   ]
  },
  {
   "cell_type": "code",
   "execution_count": 91,
   "metadata": {
    "collapsed": false
   },
   "outputs": [
    {
     "name": "stdout",
     "output_type": "stream",
     "text": [
      "[5.75678, 5.35757, 3.53633, 2.62358, 4.04038, 3.21034, 3.48499, 2.10063, 4.34617, 3.67664, 3.05395, 2.64334, 4.03318, 3.48046, 2.83041, 7.58848, 4.34283, 2.35234, 4.77152, 2.19666, 4.55445, 1.84538, 3.70464, 4.99058, 2.389, 5.55359, 7.94694, 2.48393, 11.0758, 10.3775, 5.24157, 3.59385, 7.61285, 3.41777, 3.23374, 2.294727, 1004.04, 3.65033, 11.5632, 8.4361, 2.95891, 1.8901, 288.603, 16.7601, 6.22693, 13.4958, 16.264, 3.79363, 111.608, 6.07454, 26.5687, 5.13994, 7.17561, 28.96159, 3.7387, 4.22653, 23.1009, 3.05945, 4.18618, 5.44, 378.596, 405.934, 3.05431, 3.35434, 3.23227, 3.26619, 8.3578, 5.27733, 9.03529, 4.57177, 3.61852, 5.38432, 4.8883, 110.665, 56.133, 30.5293, 4.8028, 4.65144, 4.02704, 37.6602, 6.74339, 11.0193] [-4.985, -0.3429, 9.851, 6.45, -4.215, -0.183, -4.587, -0.97922, -12.206, -3.844, -2.187, 3.0354, 3.402, 14.8371, -2.054, 29.37, 9.523, -8.6553, 1.83609, -3.5172, -0.456, -4.589, 0.9844, 0.117, 1.858, 4.122, -0.33, 2.6055, -5.4693, 4.5, 13.196, 34.978, 6.378, 12.57, 31.03, 22.21, 1.59, 16.8, -3.4, -60.6, 14.1232, 8.8495, 0.39933, -32.913, -5.984, 58.678, 31.24, -1.055, 566.1, 1.92, -99.6, 49.28, 51.31, 219.1, 6.5, 0.69, 47.0, 0.4335, 8.23245, 338.5, 0.0315, 0.224, 155.0, 0.2318, -0.048, 0.307, -79.9, 0.22, 96.3, -43.7, -0.658, -0.2, 4.8506, -2107.0, 956.0, 499.1, -107.5, 17.8, 3.2, 195.0, 2.4, -5.181] 82 82\n"
     ]
    }
   ],
   "source": [
    "P=[]; dPdt=[]\n",
    "with open('GCpsr.txt', 'r') as fpsr:\n",
    "    for _ in xrange(4):\n",
    "        next(fpsr)\n",
    "    for line in fpsr:\n",
    "        if not line.strip():       ##Skip blank lines\n",
    "            continue\n",
    "        else:\n",
    "            data=line.split()\n",
    "            \n",
    "            ##Get P and dPdt from the table\n",
    "            period, period_dot=get_ppdot(data)\n",
    "            if period!=0 and period_dot!=0:\n",
    "                P.append(period); dPdt.append(period_dot)\n",
    "\n",
    "print P, dPdt"
   ]
  },
  {
   "cell_type": "code",
   "execution_count": null,
   "metadata": {
    "collapsed": true
   },
   "outputs": [],
   "source": [
    "##Can add plot code here"
   ]
  }
 ],
 "metadata": {
  "kernelspec": {
   "display_name": "Python 2",
   "language": "python",
   "name": "python2"
  },
  "language_info": {
   "codemirror_mode": {
    "name": "ipython",
    "version": 2
   },
   "file_extension": ".py",
   "mimetype": "text/x-python",
   "name": "python",
   "nbconvert_exporter": "python",
   "pygments_lexer": "ipython2",
   "version": "2.7.13"
  }
 },
 "nbformat": 4,
 "nbformat_minor": 2
}
